{
  "cells": [
    {
      "cell_type": "markdown",
      "metadata": {
        "id": "view-in-github",
        "colab_type": "text"
      },
      "source": [
        "<a href=\"https://colab.research.google.com/github/saramazz/Edtech-LearnOktopus/blob/main/Learn_Oktopus_v.ipynb\" target=\"_parent\"><img src=\"https://colab.research.google.com/assets/colab-badge.svg\" alt=\"Open In Colab\"/></a>"
      ]
    },
    {
      "cell_type": "markdown",
      "source": [
        "# SETUP"
      ],
      "metadata": {
        "id": "OqRYAJO6fhlE"
      }
    },
    {
      "cell_type": "markdown",
      "metadata": {
        "id": "7iOF6Yo-wUEC"
      },
      "source": [
        "### Set environment variables\n",
        "\n",
        "Set environment variables for `KAGGLE_USERNAME` and `KAGGLE_KEY`."
      ]
    },
    {
      "cell_type": "code",
      "execution_count": 1,
      "metadata": {
        "id": "0_EdOg9DPK6Q"
      },
      "outputs": [],
      "source": [
        "import os\n",
        "from google.colab import userdata\n",
        "\n",
        "# Note: `userdata.get` is a Colab API. If you're not using Colab, set the env\n",
        "# vars as appropriate for your system.\n",
        "\n",
        "os.environ[\"KAGGLE_USERNAME\"] = userdata.get('KAGGLE_USERNAME')\n",
        "os.environ[\"KAGGLE_KEY\"] = userdata.get('KAGGLE_KEY')"
      ]
    },
    {
      "cell_type": "markdown",
      "metadata": {
        "id": "CuEUAKJW1QkQ"
      },
      "source": [
        "### Install dependencies\n",
        "\n",
        "Install Keras, KerasNLP, and other dependencies."
      ]
    },
    {
      "cell_type": "code",
      "execution_count": 2,
      "metadata": {
        "id": "1eeBtYqJsZPG",
        "colab": {
          "base_uri": "https://localhost:8080/"
        },
        "outputId": "5080d0d7-d7ac-4cc3-c11e-fd9cdecdf029"
      },
      "outputs": [
        {
          "output_type": "stream",
          "name": "stdout",
          "text": [
            "\u001b[2K     \u001b[90m━━━━━━━━━━━━━━━━━━━━━━━━━━━━━━━━━━━━━━━━\u001b[0m \u001b[32m508.4/508.4 kB\u001b[0m \u001b[31m4.7 MB/s\u001b[0m eta \u001b[36m0:00:00\u001b[0m\n",
            "\u001b[2K     \u001b[90m━━━━━━━━━━━━━━━━━━━━━━━━━━━━━━━━━━━━━━━━\u001b[0m \u001b[32m950.8/950.8 kB\u001b[0m \u001b[31m4.6 MB/s\u001b[0m eta \u001b[36m0:00:00\u001b[0m\n",
            "\u001b[2K     \u001b[90m━━━━━━━━━━━━━━━━━━━━━━━━━━━━━━━━━━━━━━━━\u001b[0m \u001b[32m5.2/5.2 MB\u001b[0m \u001b[31m2.6 MB/s\u001b[0m eta \u001b[36m0:00:00\u001b[0m\n",
            "\u001b[2K     \u001b[90m━━━━━━━━━━━━━━━━━━━━━━━━━━━━━━━━━━━━━━━━\u001b[0m \u001b[32m589.8/589.8 MB\u001b[0m \u001b[31m1.4 MB/s\u001b[0m eta \u001b[36m0:00:00\u001b[0m\n",
            "\u001b[2K     \u001b[90m━━━━━━━━━━━━━━━━━━━━━━━━━━━━━━━━━━━━━━━━\u001b[0m \u001b[32m5.3/5.3 MB\u001b[0m \u001b[31m2.5 MB/s\u001b[0m eta \u001b[36m0:00:00\u001b[0m\n",
            "\u001b[2K     \u001b[90m━━━━━━━━━━━━━━━━━━━━━━━━━━━━━━━━━━━━━━━━\u001b[0m \u001b[32m2.2/2.2 MB\u001b[0m \u001b[31m3.5 MB/s\u001b[0m eta \u001b[36m0:00:00\u001b[0m\n",
            "\u001b[2K     \u001b[90m━━━━━━━━━━━━━━━━━━━━━━━━━━━━━━━━━━━━━━━━\u001b[0m \u001b[32m5.5/5.5 MB\u001b[0m \u001b[31m3.3 MB/s\u001b[0m eta \u001b[36m0:00:00\u001b[0m\n",
            "\u001b[2K     \u001b[90m━━━━━━━━━━━━━━━━━━━━━━━━━━━━━━━━━━━━━━━━\u001b[0m \u001b[32m1.1/1.1 MB\u001b[0m \u001b[31m2.0 MB/s\u001b[0m eta \u001b[36m0:00:00\u001b[0m\n",
            "\u001b[2K     \u001b[90m━━━━━━━━━━━━━━━━━━━━━━━━━━━━━━━━━━━━━━━━\u001b[0m \u001b[32m311.2/311.2 kB\u001b[0m \u001b[31m1.9 MB/s\u001b[0m eta \u001b[36m0:00:00\u001b[0m\n",
            "\u001b[?25h\u001b[31mERROR: pip's dependency resolver does not currently take into account all the packages that are installed. This behaviour is the source of the following dependency conflicts.\n",
            "tf-keras 2.15.1 requires tensorflow<2.16,>=2.15, but you have tensorflow 2.16.1 which is incompatible.\u001b[0m\u001b[31m\n",
            "\u001b[0m"
          ]
        }
      ],
      "source": [
        "# Install Keras 3 last. See https://keras.io/getting_started/ for more details.\n",
        "!pip install -q -U keras-nlp\n",
        "!pip install -q -U keras>=3"
      ]
    },
    {
      "cell_type": "code",
      "source": [
        "!pip install yake"
      ],
      "metadata": {
        "colab": {
          "base_uri": "https://localhost:8080/"
        },
        "id": "dBcl3f4YlnLZ",
        "outputId": "f368e210-2035-4618-bcdd-d56a15837a9b"
      },
      "execution_count": 3,
      "outputs": [
        {
          "output_type": "stream",
          "name": "stdout",
          "text": [
            "Collecting yake\n",
            "  Downloading yake-0.4.8-py2.py3-none-any.whl (60 kB)\n",
            "\u001b[2K     \u001b[90m━━━━━━━━━━━━━━━━━━━━━━━━━━━━━━━━━━━━━━━━\u001b[0m \u001b[32m60.2/60.2 kB\u001b[0m \u001b[31m1.9 MB/s\u001b[0m eta \u001b[36m0:00:00\u001b[0m\n",
            "\u001b[?25hRequirement already satisfied: tabulate in /usr/local/lib/python3.10/dist-packages (from yake) (0.9.0)\n",
            "Requirement already satisfied: click>=6.0 in /usr/local/lib/python3.10/dist-packages (from yake) (8.1.7)\n",
            "Requirement already satisfied: numpy in /usr/local/lib/python3.10/dist-packages (from yake) (1.25.2)\n",
            "Collecting segtok (from yake)\n",
            "  Downloading segtok-1.5.11-py3-none-any.whl (24 kB)\n",
            "Requirement already satisfied: networkx in /usr/local/lib/python3.10/dist-packages (from yake) (3.3)\n",
            "Collecting jellyfish (from yake)\n",
            "  Downloading jellyfish-1.0.3-cp310-cp310-manylinux_2_17_x86_64.manylinux2014_x86_64.whl (1.2 MB)\n",
            "\u001b[2K     \u001b[90m━━━━━━━━━━━━━━━━━━━━━━━━━━━━━━━━━━━━━━━━\u001b[0m \u001b[32m1.2/1.2 MB\u001b[0m \u001b[31m18.5 MB/s\u001b[0m eta \u001b[36m0:00:00\u001b[0m\n",
            "\u001b[?25hRequirement already satisfied: regex in /usr/local/lib/python3.10/dist-packages (from segtok->yake) (2023.12.25)\n",
            "Installing collected packages: segtok, jellyfish, yake\n",
            "Successfully installed jellyfish-1.0.3 segtok-1.5.11 yake-0.4.8\n"
          ]
        }
      ]
    },
    {
      "cell_type": "markdown",
      "source": [
        "### Select GEMMA backend"
      ],
      "metadata": {
        "id": "M1-F-7KwfEWA"
      }
    },
    {
      "cell_type": "code",
      "execution_count": 4,
      "metadata": {
        "id": "yn5uy8X8sdD0"
      },
      "outputs": [],
      "source": [
        "os.environ[\"KERAS_BACKEND\"] = \"jax\"  # Or \"torch\" or \"tensorflow\".\n",
        "# Avoid memory fragmentation on JAX backend.\n",
        "os.environ[\"XLA_PYTHON_CLIENT_MEM_FRACTION\"]=\"1.00\""
      ]
    },
    {
      "cell_type": "markdown",
      "metadata": {
        "id": "hZs8XXqUKRmi"
      },
      "source": [
        "### Import packages"
      ]
    },
    {
      "cell_type": "code",
      "execution_count": 5,
      "metadata": {
        "id": "FYHyPUA9hKTf"
      },
      "outputs": [],
      "source": [
        "import keras\n",
        "import keras_nlp"
      ]
    },
    {
      "cell_type": "markdown",
      "metadata": {
        "id": "7RCE3fdGhDE5"
      },
      "source": [
        "# Load GEMMA"
      ]
    },
    {
      "cell_type": "code",
      "execution_count": 6,
      "metadata": {
        "id": "vz5zLEyLstfn",
        "outputId": "13b3aa4e-a95b-4e5f-8faa-7dbe6b46cebf",
        "colab": {
          "base_uri": "https://localhost:8080/",
          "height": 472
        }
      },
      "outputs": [
        {
          "output_type": "stream",
          "name": "stderr",
          "text": [
            "Attaching 'config.json' from model 'keras/gemma/keras/gemma_1.1_instruct_2b_en/3' to your Colab notebook...\n",
            "Attaching 'config.json' from model 'keras/gemma/keras/gemma_1.1_instruct_2b_en/3' to your Colab notebook...\n",
            "Attaching 'model.weights.h5' from model 'keras/gemma/keras/gemma_1.1_instruct_2b_en/3' to your Colab notebook...\n",
            "Attaching 'tokenizer.json' from model 'keras/gemma/keras/gemma_1.1_instruct_2b_en/3' to your Colab notebook...\n",
            "Attaching 'assets/tokenizer/vocabulary.spm' from model 'keras/gemma/keras/gemma_1.1_instruct_2b_en/3' to your Colab notebook...\n"
          ]
        },
        {
          "output_type": "display_data",
          "data": {
            "text/plain": [
              "\u001b[1mPreprocessor: \"gemma_causal_lm_preprocessor\"\u001b[0m\n"
            ],
            "text/html": [
              "<pre style=\"white-space:pre;overflow-x:auto;line-height:normal;font-family:Menlo,'DejaVu Sans Mono',consolas,'Courier New',monospace\"><span style=\"font-weight: bold\">Preprocessor: \"gemma_causal_lm_preprocessor\"</span>\n",
              "</pre>\n"
            ]
          },
          "metadata": {}
        },
        {
          "output_type": "display_data",
          "data": {
            "text/plain": [
              "┏━━━━━━━━━━━━━━━━━━━━━━━━━━━━━━━━━━━━━━━━━━━━━━━━━━━━┳━━━━━━━━━━━━━━━━━━━━━━━━━━━━━━━━━━━━━━━━━━━━━━━━━━━━━┓\n",
              "┃\u001b[1m \u001b[0m\u001b[1mTokenizer (type)                                  \u001b[0m\u001b[1m \u001b[0m┃\u001b[1m \u001b[0m\u001b[1m                                            Vocab #\u001b[0m\u001b[1m \u001b[0m┃\n",
              "┡━━━━━━━━━━━━━━━━━━━━━━━━━━━━━━━━━━━━━━━━━━━━━━━━━━━━╇━━━━━━━━━━━━━━━━━━━━━━━━━━━━━━━━━━━━━━━━━━━━━━━━━━━━━┩\n",
              "│ gemma_tokenizer (\u001b[38;5;33mGemmaTokenizer\u001b[0m)                   │                                             \u001b[38;5;34m256,000\u001b[0m │\n",
              "└────────────────────────────────────────────────────┴─────────────────────────────────────────────────────┘\n"
            ],
            "text/html": [
              "<pre style=\"white-space:pre;overflow-x:auto;line-height:normal;font-family:Menlo,'DejaVu Sans Mono',consolas,'Courier New',monospace\">┏━━━━━━━━━━━━━━━━━━━━━━━━━━━━━━━━━━━━━━━━━━━━━━━━━━━━┳━━━━━━━━━━━━━━━━━━━━━━━━━━━━━━━━━━━━━━━━━━━━━━━━━━━━━┓\n",
              "┃<span style=\"font-weight: bold\"> Tokenizer (type)                                   </span>┃<span style=\"font-weight: bold\">                                             Vocab # </span>┃\n",
              "┡━━━━━━━━━━━━━━━━━━━━━━━━━━━━━━━━━━━━━━━━━━━━━━━━━━━━╇━━━━━━━━━━━━━━━━━━━━━━━━━━━━━━━━━━━━━━━━━━━━━━━━━━━━━┩\n",
              "│ gemma_tokenizer (<span style=\"color: #0087ff; text-decoration-color: #0087ff\">GemmaTokenizer</span>)                   │                                             <span style=\"color: #00af00; text-decoration-color: #00af00\">256,000</span> │\n",
              "└────────────────────────────────────────────────────┴─────────────────────────────────────────────────────┘\n",
              "</pre>\n"
            ]
          },
          "metadata": {}
        },
        {
          "output_type": "display_data",
          "data": {
            "text/plain": [
              "\u001b[1mModel: \"gemma_causal_lm\"\u001b[0m\n"
            ],
            "text/html": [
              "<pre style=\"white-space:pre;overflow-x:auto;line-height:normal;font-family:Menlo,'DejaVu Sans Mono',consolas,'Courier New',monospace\"><span style=\"font-weight: bold\">Model: \"gemma_causal_lm\"</span>\n",
              "</pre>\n"
            ]
          },
          "metadata": {}
        },
        {
          "output_type": "display_data",
          "data": {
            "text/plain": [
              "┏━━━━━━━━━━━━━━━━━━━━━━━━━━━━━━━┳━━━━━━━━━━━━━━━━━━━━━━━━━━━┳━━━━━━━━━━━━━━━━━┳━━━━━━━━━━━━━━━━━━━━━━━━━━━━┓\n",
              "┃\u001b[1m \u001b[0m\u001b[1mLayer (type)                 \u001b[0m\u001b[1m \u001b[0m┃\u001b[1m \u001b[0m\u001b[1mOutput Shape             \u001b[0m\u001b[1m \u001b[0m┃\u001b[1m \u001b[0m\u001b[1m        Param #\u001b[0m\u001b[1m \u001b[0m┃\u001b[1m \u001b[0m\u001b[1mConnected to              \u001b[0m\u001b[1m \u001b[0m┃\n",
              "┡━━━━━━━━━━━━━━━━━━━━━━━━━━━━━━━╇━━━━━━━━━━━━━━━━━━━━━━━━━━━╇━━━━━━━━━━━━━━━━━╇━━━━━━━━━━━━━━━━━━━━━━━━━━━━┩\n",
              "│ padding_mask (\u001b[38;5;33mInputLayer\u001b[0m)     │ (\u001b[38;5;45mNone\u001b[0m, \u001b[38;5;45mNone\u001b[0m)              │               \u001b[38;5;34m0\u001b[0m │ -                          │\n",
              "├───────────────────────────────┼───────────────────────────┼─────────────────┼────────────────────────────┤\n",
              "│ token_ids (\u001b[38;5;33mInputLayer\u001b[0m)        │ (\u001b[38;5;45mNone\u001b[0m, \u001b[38;5;45mNone\u001b[0m)              │               \u001b[38;5;34m0\u001b[0m │ -                          │\n",
              "├───────────────────────────────┼───────────────────────────┼─────────────────┼────────────────────────────┤\n",
              "│ gemma_backbone                │ (\u001b[38;5;45mNone\u001b[0m, \u001b[38;5;45mNone\u001b[0m, \u001b[38;5;34m2048\u001b[0m)        │   \u001b[38;5;34m2,506,172,416\u001b[0m │ padding_mask[\u001b[38;5;34m0\u001b[0m][\u001b[38;5;34m0\u001b[0m],        │\n",
              "│ (\u001b[38;5;33mGemmaBackbone\u001b[0m)               │                           │                 │ token_ids[\u001b[38;5;34m0\u001b[0m][\u001b[38;5;34m0\u001b[0m]            │\n",
              "├───────────────────────────────┼───────────────────────────┼─────────────────┼────────────────────────────┤\n",
              "│ token_embedding               │ (\u001b[38;5;45mNone\u001b[0m, \u001b[38;5;45mNone\u001b[0m, \u001b[38;5;34m256000\u001b[0m)      │     \u001b[38;5;34m524,288,000\u001b[0m │ gemma_backbone[\u001b[38;5;34m0\u001b[0m][\u001b[38;5;34m0\u001b[0m]       │\n",
              "│ (\u001b[38;5;33mReversibleEmbedding\u001b[0m)         │                           │                 │                            │\n",
              "└───────────────────────────────┴───────────────────────────┴─────────────────┴────────────────────────────┘\n"
            ],
            "text/html": [
              "<pre style=\"white-space:pre;overflow-x:auto;line-height:normal;font-family:Menlo,'DejaVu Sans Mono',consolas,'Courier New',monospace\">┏━━━━━━━━━━━━━━━━━━━━━━━━━━━━━━━┳━━━━━━━━━━━━━━━━━━━━━━━━━━━┳━━━━━━━━━━━━━━━━━┳━━━━━━━━━━━━━━━━━━━━━━━━━━━━┓\n",
              "┃<span style=\"font-weight: bold\"> Layer (type)                  </span>┃<span style=\"font-weight: bold\"> Output Shape              </span>┃<span style=\"font-weight: bold\">         Param # </span>┃<span style=\"font-weight: bold\"> Connected to               </span>┃\n",
              "┡━━━━━━━━━━━━━━━━━━━━━━━━━━━━━━━╇━━━━━━━━━━━━━━━━━━━━━━━━━━━╇━━━━━━━━━━━━━━━━━╇━━━━━━━━━━━━━━━━━━━━━━━━━━━━┩\n",
              "│ padding_mask (<span style=\"color: #0087ff; text-decoration-color: #0087ff\">InputLayer</span>)     │ (<span style=\"color: #00d7ff; text-decoration-color: #00d7ff\">None</span>, <span style=\"color: #00d7ff; text-decoration-color: #00d7ff\">None</span>)              │               <span style=\"color: #00af00; text-decoration-color: #00af00\">0</span> │ -                          │\n",
              "├───────────────────────────────┼───────────────────────────┼─────────────────┼────────────────────────────┤\n",
              "│ token_ids (<span style=\"color: #0087ff; text-decoration-color: #0087ff\">InputLayer</span>)        │ (<span style=\"color: #00d7ff; text-decoration-color: #00d7ff\">None</span>, <span style=\"color: #00d7ff; text-decoration-color: #00d7ff\">None</span>)              │               <span style=\"color: #00af00; text-decoration-color: #00af00\">0</span> │ -                          │\n",
              "├───────────────────────────────┼───────────────────────────┼─────────────────┼────────────────────────────┤\n",
              "│ gemma_backbone                │ (<span style=\"color: #00d7ff; text-decoration-color: #00d7ff\">None</span>, <span style=\"color: #00d7ff; text-decoration-color: #00d7ff\">None</span>, <span style=\"color: #00af00; text-decoration-color: #00af00\">2048</span>)        │   <span style=\"color: #00af00; text-decoration-color: #00af00\">2,506,172,416</span> │ padding_mask[<span style=\"color: #00af00; text-decoration-color: #00af00\">0</span>][<span style=\"color: #00af00; text-decoration-color: #00af00\">0</span>],        │\n",
              "│ (<span style=\"color: #0087ff; text-decoration-color: #0087ff\">GemmaBackbone</span>)               │                           │                 │ token_ids[<span style=\"color: #00af00; text-decoration-color: #00af00\">0</span>][<span style=\"color: #00af00; text-decoration-color: #00af00\">0</span>]            │\n",
              "├───────────────────────────────┼───────────────────────────┼─────────────────┼────────────────────────────┤\n",
              "│ token_embedding               │ (<span style=\"color: #00d7ff; text-decoration-color: #00d7ff\">None</span>, <span style=\"color: #00d7ff; text-decoration-color: #00d7ff\">None</span>, <span style=\"color: #00af00; text-decoration-color: #00af00\">256000</span>)      │     <span style=\"color: #00af00; text-decoration-color: #00af00\">524,288,000</span> │ gemma_backbone[<span style=\"color: #00af00; text-decoration-color: #00af00\">0</span>][<span style=\"color: #00af00; text-decoration-color: #00af00\">0</span>]       │\n",
              "│ (<span style=\"color: #0087ff; text-decoration-color: #0087ff\">ReversibleEmbedding</span>)         │                           │                 │                            │\n",
              "└───────────────────────────────┴───────────────────────────┴─────────────────┴────────────────────────────┘\n",
              "</pre>\n"
            ]
          },
          "metadata": {}
        },
        {
          "output_type": "display_data",
          "data": {
            "text/plain": [
              "\u001b[1m Total params: \u001b[0m\u001b[38;5;34m2,506,172,416\u001b[0m (9.34 GB)\n"
            ],
            "text/html": [
              "<pre style=\"white-space:pre;overflow-x:auto;line-height:normal;font-family:Menlo,'DejaVu Sans Mono',consolas,'Courier New',monospace\"><span style=\"font-weight: bold\"> Total params: </span><span style=\"color: #00af00; text-decoration-color: #00af00\">2,506,172,416</span> (9.34 GB)\n",
              "</pre>\n"
            ]
          },
          "metadata": {}
        },
        {
          "output_type": "display_data",
          "data": {
            "text/plain": [
              "\u001b[1m Trainable params: \u001b[0m\u001b[38;5;34m2,506,172,416\u001b[0m (9.34 GB)\n"
            ],
            "text/html": [
              "<pre style=\"white-space:pre;overflow-x:auto;line-height:normal;font-family:Menlo,'DejaVu Sans Mono',consolas,'Courier New',monospace\"><span style=\"font-weight: bold\"> Trainable params: </span><span style=\"color: #00af00; text-decoration-color: #00af00\">2,506,172,416</span> (9.34 GB)\n",
              "</pre>\n"
            ]
          },
          "metadata": {}
        },
        {
          "output_type": "display_data",
          "data": {
            "text/plain": [
              "\u001b[1m Non-trainable params: \u001b[0m\u001b[38;5;34m0\u001b[0m (0.00 B)\n"
            ],
            "text/html": [
              "<pre style=\"white-space:pre;overflow-x:auto;line-height:normal;font-family:Menlo,'DejaVu Sans Mono',consolas,'Courier New',monospace\"><span style=\"font-weight: bold\"> Non-trainable params: </span><span style=\"color: #00af00; text-decoration-color: #00af00\">0</span> (0.00 B)\n",
              "</pre>\n"
            ]
          },
          "metadata": {}
        }
      ],
      "source": [
        "gemma_lm = keras_nlp.models.GemmaCausalLM.from_preset(\"gemma_1.1_instruct_2b_en\")\n",
        "gemma_lm.summary()"
      ]
    },
    {
      "cell_type": "markdown",
      "source": [
        "# ESTRAZIONE KEYWORDS"
      ],
      "metadata": {
        "id": "q6DmO16OlcVj"
      }
    },
    {
      "cell_type": "code",
      "source": [
        "import yake\n",
        "\n",
        "def extract_keywords(text):\n",
        "  kw_extractor = yake.KeywordExtractor()\n",
        "  language = \"en\"\n",
        "  max_ngram_size = 3\n",
        "  deduplication_threshold = 0.4\n",
        "  numOfKeywords = 10\n",
        "  custom_kw_extractor = yake.KeywordExtractor(lan=language, n=max_ngram_size, dedupLim=deduplication_threshold, top=numOfKeywords, features=None)\n",
        "  keywords = custom_kw_extractor.extract_keywords(text)\n",
        "  return keywords"
      ],
      "metadata": {
        "id": "aip3IX71ldpJ"
      },
      "execution_count": 56,
      "outputs": []
    },
    {
      "cell_type": "markdown",
      "source": [
        "# DESCRIZIONE KEYWORDS"
      ],
      "metadata": {
        "id": "uuVikHGTcNLb"
      }
    },
    {
      "cell_type": "code",
      "source": [
        "template_kw_desc = \"Provide a short title to describe a paragraph speaking about {keyword}. \\n\\n ### TITLE:\\n\"\n",
        "\n",
        "def get_keyword_desc(k):\n",
        "  prompt = template_kw_desc.format(\n",
        "    keyword=k,\n",
        "  )\n",
        "\n",
        "  sampler = keras_nlp.samplers.TopKSampler(k=3, seed=2)\n",
        "  gemma_lm.compile(sampler=sampler)\n",
        "  res = gemma_lm.generate(prompt, max_length=50)\n",
        "  i = res.rindex('### TITLE:\\n') + len('### TITLE:\\n')\n",
        "  res = res[i:]\n",
        "  if '**Paragraph:**' in res:\n",
        "    res = res[:res.index('**Paragraph:**')]\n",
        "  i = res.index('*')\n",
        "  j = res.rindex('*')\n",
        "  res = res[i+1:j]\n",
        "  return res"
      ],
      "metadata": {
        "id": "yygBqGA0yHsP"
      },
      "execution_count": 59,
      "outputs": []
    },
    {
      "cell_type": "markdown",
      "source": [
        "# DOMANDE TEST INGRESSO"
      ],
      "metadata": {
        "id": "p84xohpQt0OP"
      }
    },
    {
      "cell_type": "code",
      "source": [
        "template = 'Provide one and only one simple question realted to the following document and to the concept {concept}. It must have one correct answer and three wrong answers. Use the format # Question: question, # Correct Answer: answer 1. # Wrong Answers: answer 2, answer3, answer4.  \\n\\n ### DOCUMENT: {document}\\n\\n### QUESTIONS:\\n'\n",
        "\n",
        "def get_entry_question(k, text):\n",
        "  i = 0\n",
        "  ret = None\n",
        "  while ret is None and i < 10:\n",
        "    i += 1\n",
        "    prompt = template.format(\n",
        "        concept=k,\n",
        "        document=text,\n",
        "        response=\"\",\n",
        "    )\n",
        "\n",
        "    sampler = keras_nlp.samplers.TopKSampler(k=30, seed=2)\n",
        "    gemma_lm.compile(sampler=sampler)\n",
        "    res = gemma_lm.generate(prompt, max_length=500)\n",
        "    i = res.rfind('### QUESTIONS:\\n') + len('### QUESTIONS:\\n')\n",
        "    res = res[i:]\n",
        "    if 'Answer: ' in res:\n",
        "      i = res.index('Answer: ')\n",
        "      j = i + len('Answer: ')\n",
        "      answ = res[j:j+1]\n",
        "      q = res[:i]\n",
        "      ret = {'q':q, 'ans': answ}\n",
        "  return ret"
      ],
      "metadata": {
        "id": "ThdLkFykt1z6"
      },
      "execution_count": 89,
      "outputs": []
    },
    {
      "cell_type": "markdown",
      "source": [
        "# DOMANDE SUI CONCETTI"
      ],
      "metadata": {
        "id": "o8GFIPtxfPHj"
      }
    },
    {
      "cell_type": "code",
      "source": [
        "template = 'Provide a question related to the following document and to the concept {concept}. It must have one correct answer and three wrong answers. After the question write its correct answer. \\n\\n ### DOCUMENT: {document}\\n\\n### QUESTIONS:\\n{response}'\n",
        "\n",
        "\n",
        "def get_questions(k, text):\n",
        "  ret = None\n",
        "  i = 0\n",
        "  while ret is None and i < 10:\n",
        "    prompt = template.format(\n",
        "        concept=k,\n",
        "        document=text,\n",
        "        response=\"\",\n",
        "    )\n",
        "\n",
        "    sampler = keras_nlp.samplers.TopKSampler(k=30, seed=2)\n",
        "    gemma_lm.compile(sampler=sampler)\n",
        "    res = gemma_lm.generate(prompt, max_length=500)\n",
        "    i = res.find('### QUESTIONS:')\n",
        "    res = res[i + len('### QUESTIONS:'):]\n",
        "    if '**Answer: ' in res:\n",
        "      i = res.find('**Answer: ')\n",
        "      i = res.index('Answer: ')\n",
        "      j = i + len('Answer: ')\n",
        "      answ = res[j:j+1]\n",
        "      q = res[:i]\n",
        "      ret = {'q':q, 'ans': answ}\n",
        "    else:\n",
        "      print(res)\n",
        "  return ret"
      ],
      "metadata": {
        "id": "8zzgw_d6fRCF"
      },
      "execution_count": 100,
      "outputs": []
    },
    {
      "cell_type": "markdown",
      "source": [
        "# FLASHCARDS"
      ],
      "metadata": {
        "id": "4A7h4IyAgljr"
      }
    },
    {
      "cell_type": "code",
      "source": [
        "template_flashcard = \"Provide one sentence to summarize the content of the following document related to the keyword {keyword}. \\n\\n ### DOCUMENT:\\n {document} \\n\\n ### DESCRIPTION:\\n\"\n",
        "\n",
        "def get_flashcard(k, text):\n",
        "  prompt = template_flashcard.format(\n",
        "    keyword=k,\n",
        "    document=text,\n",
        "  )\n",
        "\n",
        "  sampler = keras_nlp.samplers.TopKSampler(k=3, seed=2)\n",
        "  gemma_lm.compile(sampler=sampler)\n",
        "  res = gemma_lm.generate(prompt, max_length=200)\n",
        "  i = res.rindex('### DESCRIPTION:\\n')\n",
        "  res = res[i:]\n",
        "  return res"
      ],
      "metadata": {
        "id": "FzcKpTKmgljr"
      },
      "execution_count": 77,
      "outputs": []
    },
    {
      "cell_type": "code",
      "source": [
        "flashcards"
      ],
      "metadata": {
        "colab": {
          "base_uri": "https://localhost:8080/"
        },
        "id": "fdAH1hQVxeIn",
        "outputId": "91ea847c-62c5-4810-b966-1124474dc77b"
      },
      "execution_count": 52,
      "outputs": [
        {
          "output_type": "execute_result",
          "data": {
            "text/plain": [
              "{'Persian Gulf': '### DESCRIPTION:\\n The Persian Gulf is the name given to a strategic waterway connecting the Gulf of Oman with the Arabian Sea. The Persian Gulf region is home to many countries, including Oman, Iran, Yemen, and Saudi Arabia.',\n",
              " 'rain severely impacted': '### DESCRIPTION:\\nThe provided document discusses a series of heavy rainfall events in the Persian Gulf region that severely impacted states in the region.',\n",
              " 'causing flash flooding': '### DESCRIPTION:\\n The floods were caused by heavy rainfall associated with convective thunderstorms in the Persian Gulf region. The intense rainfall caused rapid runoff and flooding in low-lying areas, leading to flash flooding in several states.\\n\\n### KEYWORD:\\nFlash flooding',\n",
              " 'heavy rain severely': '### DESCRIPTION:\\nThe document discusses the heavy rainfall severely impacting states in the Persian Gulf region in April 2024, causing flash flooding and widespread damage.',\n",
              " 'United Arab Emirates': '### DESCRIPTION:\\n The document provides an overview of the impact of heavy rain on the United Arab Emirates, highlighting the significant casualties and damage caused by the floods.',\n",
              " 'impacted states': '### DESCRIPTION:\\nThe document discusses the impacts of heavy rain on states in the Persian Gulf region.',\n",
              " 'Southeastern Iran': '### DESCRIPTION:\\nThe document highlights the heavy rain and flooding incidents across the Persian Gulf region, particularly in Oman and the United Arab Emirates, resulting in casualties and damage. It also mentions Southeastern Iran, Yemen, Bahrain, Qatar, and the Eastern Province of Saudi Arabia experiencing heavy rainfall and',\n",
              " 'April': \"### DESCRIPTION:\\nThe provided document discusses April's heavy rainfall and its impact on various regions in the Persian Gulf region.\",\n",
              " 'Gulf': '### DESCRIPTION:\\n The document provides an overview of the impact of heavy rain on the Gulf region in April 2024, highlighting the severity of the flooding and its consequences.',\n",
              " 'Eastern Province': '### DESCRIPTION:\\n The document provides a summary of the impact of heavy rain in the Eastern Province of Saudi Arabia during April 2024.'}"
            ]
          },
          "metadata": {},
          "execution_count": 52
        }
      ]
    },
    {
      "cell_type": "markdown",
      "source": [
        "# DEMO"
      ],
      "metadata": {
        "id": "iYITMDHek56g"
      }
    },
    {
      "cell_type": "code",
      "source": [
        "text = \"In April 2024, heavy rain severely impacted states in the Persian Gulf, causing flash flooding across the region. Several states recorded nearly a year's worth of rain in a single day. The floods had a significant impact across the region, with Oman and the United Arab Emirates being particularly affected,[1] resulting in the deaths of at least 32 people, including 19 in Oman and 8 in Iran.[2][3] Southeastern Iran, Yemen, Bahrain, Qatar, and the Eastern Province of Saudi Arabia also experienced heavy rainfall and subsequent flooding.\""
      ],
      "metadata": {
        "id": "5PzyeZMHNgSo"
      },
      "execution_count": 54,
      "outputs": []
    },
    {
      "cell_type": "code",
      "source": [
        "keywords = extract_keywords(text)\n",
        "for kw in keywords:\n",
        "  print(kw[0])"
      ],
      "metadata": {
        "colab": {
          "base_uri": "https://localhost:8080/"
        },
        "id": "rFAqQJQIxs-3",
        "outputId": "a1925717-400c-441a-b9e9-d3e6fe3254c5"
      },
      "execution_count": 57,
      "outputs": [
        {
          "output_type": "stream",
          "name": "stdout",
          "text": [
            "Persian Gulf\n",
            "rain severely impacted\n",
            "causing flash flooding\n",
            "heavy rain severely\n",
            "United Arab Emirates\n",
            "impacted states\n",
            "Southeastern Iran\n",
            "April\n",
            "Gulf\n",
            "Eastern Province\n"
          ]
        }
      ]
    },
    {
      "cell_type": "code",
      "source": [
        "keyword_desc = {}\n",
        "\n",
        "for (k,w) in keywords:\n",
        "  res = get_keyword_desc(k)\n",
        "  keyword_desc[k] = res\n",
        "  print(k, ' --- ', res)\n",
        "  print('\\n\\n')"
      ],
      "metadata": {
        "colab": {
          "base_uri": "https://localhost:8080/"
        },
        "id": "xHiIiS36yrGP",
        "outputId": "76b4e61c-83b0-4dc9-8590-39adc9fcb538"
      },
      "execution_count": 60,
      "outputs": [
        {
          "output_type": "stream",
          "name": "stdout",
          "text": [
            "Persian Gulf  ---  *The Persian Gulf: Economic Powerhouse or Environmental Challenge?*\n",
            "\n",
            "\n",
            "\n",
            "rain severely impacted  ---  *Rain-Ravaged Landscapes: The Impact of Severe Rainfall*\n",
            "\n",
            "\n",
            "\n",
            "causing flash flooding  ---  *Flash Flooding: A Cause of Unpredictable Consequences*\n",
            "\n",
            "\n",
            "\n",
            "heavy rain severely  ---  *The Heavy Rain*\n",
            "\n",
            "\n",
            "\n",
            "United Arab Emirates  ---  *United Arab Emirates: Economic Powerhouse and Cultural Tapestry*\n",
            "\n",
            "\n",
            "\n",
            "impacted states  ---  *States Impacted: Exploring the Economic Consequences*\n",
            "\n",
            "\n",
            "\n",
            "Southeastern Iran  ---  *Exploring Southeastern Iran's Rich Tapestry of Cultures and Landscapes*\n",
            "\n",
            "\n",
            "\n",
            "April  ---  *April's Blooming Elegance*\n",
            "\n",
            "\n",
            "\n",
            "Gulf  ---  *Exploring the Diverse Landscape of the Gulf*\n",
            "\n",
            "\n",
            "\n",
            "Eastern Province  ---  *Exploring the Eastern Province's Rich Tapestry of Cultures and Landscapes*\n",
            "\n",
            "\n",
            "\n"
          ]
        }
      ]
    },
    {
      "cell_type": "code",
      "source": [
        "import random\n",
        "\n",
        "entry_test = {}\n",
        "entry_res = {}\n",
        "\n",
        "for (k,w) in keywords:\n",
        "  entry_res[k] = 0\n",
        "  entry_test[k] = get_entry_question(k, text)\n",
        "  if entry_test[k] is not None:\n",
        "    print(k, '\\n', entry_test[k]['q'], '\\nANS=', entry_test[k]['ans'], '\\n\\n')\n",
        "  user_choice = random.choice(['A', 'B', 'C', 'D'])\n",
        "  if entry_test[k] is not None and user_choice == entry_test[k]['ans']:\n",
        "    entry_res[k] = 100\n",
        "  else:\n",
        "    entry_res[k] = 0"
      ],
      "metadata": {
        "colab": {
          "base_uri": "https://localhost:8080/"
        },
        "id": "SkF4_BvuzGzj",
        "outputId": "ec53f39e-a3f6-409f-ec4b-bda411c30b84"
      },
      "execution_count": 116,
      "outputs": [
        {
          "output_type": "stream",
          "name": "stdout",
          "text": [
            "Persian Gulf \n",
            " 1. **What was the impact of the heavy rain on the Persian Gulf?**\n",
            "\n",
            "**A)** It caused flash flooding across the region.\n",
            "**B)** It led to reduced water levels.\n",
            "**C)** It caused heavy rain and flooding in the region.\n",
            "**D)** It had no effect on the region.\n",
            "\n",
            "\n",
            "** \n",
            "ANS= C \n",
            "\n",
            "\n",
            "rain severely impacted \n",
            " 1. **What was the main impact of the heavy rain?** \n",
            "\n",
            "\n",
            " **A**. Increased agricultural production \n",
            "\n",
            "\n",
            " **B**. Flash flooding across the region \n",
            "\n",
            "\n",
            " **C**. Reduced water availability \n",
            "\n",
            "\n",
            " **D**. Damage to infrastructure \n",
            "\n",
            "\n",
            "** \n",
            "ANS= B \n",
            "\n",
            "\n",
            "causing flash flooding \n",
            " 1. **What caused the flash flooding in the Persian Gulf?** \n",
            "\n",
            "\n",
            "**A.) Heavy rain due to climatic conditions** \n",
            "\n",
            "\n",
            "**B.) Dam failure or infrastructure damage**\n",
            "\n",
            "\n",
            "**C.) River overflow**\n",
            "\n",
            "\n",
            "**D.) Intense sunlight exposure**\n",
            "\n",
            "\n",
            "** \n",
            "ANS= A \n",
            "\n",
            "\n",
            "heavy rain severely \n",
            " 1. **What was the impact of the heavy rain?**\n",
            "\n",
            "\n",
            " **A. It caused flash flooding across the region.**\n",
            "\n",
            "\n",
            " **B. It caused widespread damage to infrastructure.**\n",
            "\n",
            "\n",
            " **C. It resulted in the deaths of at least 30 people.**\n",
            "\n",
            "\n",
            " **D. It caused heavy rainfall throughout the region.**\n",
            "\n",
            "\n",
            " ** \n",
            "ANS= A \n",
            "\n",
            "\n",
            "Eastern Province \n",
            " 1. **What was the impact of the heavy rain on the Eastern Province of Saudi Arabia?**\n",
            "A. Minimal impact\n",
            "B. Significant impact\n",
            "C. No impact\n",
            "D. Moderate impact\n",
            "\n",
            "\n",
            "** \n",
            "ANS= B \n",
            "\n",
            "\n"
          ]
        }
      ]
    },
    {
      "cell_type": "code",
      "source": [
        "user_prior_knowledge = entry_res\n",
        "for k in user_prior_knowledge.keys():\n",
        "  if user_prior_knowledge[k] == 0:\n",
        "    user_prior_knowledge[k] = 10\n",
        "  if user_prior_knowledge[k] > 1:\n",
        "    user_prior_knowledge[k] = user_prior_knowledge[k] / 100\n",
        "\n",
        "\n",
        "# Function to calculate session availability\n",
        "def calculate_sessions(hours_per_day, total_hours, total_sessions):\n",
        "    hours_per_session = total_hours / total_sessions\n",
        "    sessions_available = hours_per_day / hours_per_session\n",
        "    return sessions_available\n",
        "\n",
        "# Function to generate normalized importance scores for keywords\n",
        "def generate_normalized_importance_scores(keywords, weights):\n",
        "    total_weight = sum(weights.values())  # Calcola la somma totale dei pesi\n",
        "    print('total_weight=',total_weight)\n",
        "    importance_scores = {}\n",
        "    for keyword in keywords:\n",
        "        #importance_scores[keyword] = ((weights[keyword] + user_prior_knowledge[keyword]/100) / 2) / total_weight\n",
        "        importance_scores[keyword] = (weights[keyword]/total_weight + user_prior_knowledge[keyword])/2\n",
        "        print(keyword, weights[keyword], user_prior_knowledge[keyword], importance_scores[keyword])\n",
        "    return importance_scores\n",
        "\n",
        "# Main function to print the table\n",
        "def print_keywords_table(keywords, prior_knowledge, final_importance):\n",
        "    print(\"{:<20} {:<20} {:<20} {:<20}\".format(\"Keyword\", \"Prior Knowledge\", \"Importance Score\", \"Final Importance\"))\n",
        "    for keyword in keywords:\n",
        "        print(\"{:<20} {:<20} {:<20} {:<20}\".format(keyword, prior_knowledge[keyword], keywords[keyword], final_importance[keyword]))\n",
        "\n",
        "# Example inputs\n",
        "hours_per_day = 3\n",
        "total_sessions = 10\n",
        "total_hours = hours_per_day*total_sessions\n",
        "\n",
        "# # Define weights for each keyword\n",
        "# topic_keywords_weights = {\n",
        "#     \"Python\": {\"variables\": 60, \"functions\": 70, \"loops\": 50, \"lists\": 40, \"dictionaries\": 30},\n",
        "#     \"Machine Learning\": {\"supervised learning\": 80, \"unsupervised learning\": 50, \"neural networks\": 60, \"regression\": 70, \"classification\": 40}\n",
        "# }\n",
        "\n",
        "keywords_weights = dict(keywords)\n",
        "\n",
        "# Generate importance scores for keywords\n",
        "#keywords_importance = generate_importance_scores(topic_keywords[topic], topic_keywords_weights[topic])\n",
        "keywords_importance=generate_normalized_importance_scores(keywords_weights.keys(), keywords_weights)\n",
        "\n",
        "# Calculate final importance scores\n",
        "final_importance = {}\n",
        "for keyword in keywords_importance:\n",
        "    final_importance[keyword] = (keywords_importance[keyword] + user_prior_knowledge[keyword]) / 2\n",
        "\n",
        "# Calculate sessions available\n",
        "sessions_available = calculate_sessions(hours_per_day, total_hours, total_sessions)\n",
        "\n",
        "# Print keywords table\n",
        "print_keywords_table( keywords_importance, user_prior_knowledge, final_importance)\n",
        "\n",
        "print(\"\\nNumber of sessions available to finish within the deadline:\", sessions_available)\n",
        "\n",
        "# Function to print keywords table with normalized coverage percentage\n",
        "def print_normalized_keywords_coverage_table(keywords, prior_knowledge, final_importance):\n",
        "    print(\"{:<10} {:<20} {:<30}\".format(\"Lesson\", \"Keywords Covered\", \"Normalized Coverage Percentage\"))\n",
        "    total_prior_knowledge = sum(prior_knowledge.values())  # Calcola la somma totale della conoscenza pregressa\n",
        "    coverage_list = []  # Lista per memorizzare le tuple (lesson_number, keyword, coverage_percentage)\n",
        "    lesson_number = 1\n",
        "    for (keyword, weight) in keywords:\n",
        "        coverage_percentage = (prior_knowledge[keyword] / total_prior_knowledge) * 100  # Calcola la percentuale di copertura normalizzata\n",
        "        formatted_percentage = \"{:.2f}%\".format(coverage_percentage)  # Formatta la percentuale con due cifre decimali e aggiunge il simbolo \"%\"\n",
        "        coverage_list.append((lesson_number, keyword, formatted_percentage))  # Aggiungi la tupla alla lista\n",
        "        lesson_number += 1\n",
        "    # Ordina la lista in base alla percentuale di copertura in ordine decrescente\n",
        "    coverage_list.sort(key=lambda x: float(x[2][:-1]), reverse=True)\n",
        "    # Stampa la lista ordinata\n",
        "    for lesson_number, keyword, formatted_percentage in coverage_list:\n",
        "        print(\"{:<10} {:<20} {:<30}\".format(lesson_number, keyword, formatted_percentage))\n",
        "\n",
        "# Stampa la tabella di copertura delle keywords normalizzata ordinata in ordine decrescente di percentuale di copertura\n",
        "print_normalized_keywords_coverage_table(keywords, user_prior_knowledge, final_importance)\n"
      ],
      "metadata": {
        "colab": {
          "base_uri": "https://localhost:8080/"
        },
        "id": "S7VvUOTlk7NH",
        "outputId": "ca1e3c66-151c-4898-ca0a-fd62cdd13127"
      },
      "execution_count": 117,
      "outputs": [
        {
          "output_type": "stream",
          "name": "stdout",
          "text": [
            "total_weight= 0.30221782430576294\n",
            "Persian Gulf 0.0034462857126499255 0.1 0.05570165859767956\n",
            "rain severely impacted 0.004162863624711395 1.0 0.5068871907775031\n",
            "causing flash flooding 0.004506416513543694 0.1 0.057455576989701995\n",
            "heavy rain severely 0.009346903162618325 0.1 0.06546385158467984\n",
            "United Arab Emirates 0.019921149567440895 0.1 0.08295826381716995\n",
            "impacted states 0.029853295183017874 0.1 0.09939036149107869\n",
            "Southeastern Iran 0.0529935947127408 0.1 0.13767450237998796\n",
            "April 0.05406700093979796 0.1 0.1394503841128456\n",
            "Gulf 0.05406700093979796 0.1 0.1394503841128456\n",
            "Eastern Province 0.06985331394944409 0.1 0.16556782613650772\n",
            "Keyword              Prior Knowledge      Importance Score     Final Importance    \n",
            "Persian Gulf         0.1                  0.05570165859767956  0.07785082929883978 \n",
            "rain severely impacted 1.0                  0.5068871907775031   0.7534435953887515  \n",
            "causing flash flooding 0.1                  0.057455576989701995 0.078727788494851   \n",
            "heavy rain severely  0.1                  0.06546385158467984  0.08273192579233993 \n",
            "United Arab Emirates 0.1                  0.08295826381716995  0.09147913190858498 \n",
            "impacted states      0.1                  0.09939036149107869  0.09969518074553935 \n",
            "Southeastern Iran    0.1                  0.13767450237998796  0.11883725118999398 \n",
            "April                0.1                  0.1394503841128456   0.1197251920564228  \n",
            "Gulf                 0.1                  0.1394503841128456   0.1197251920564228  \n",
            "Eastern Province     0.1                  0.16556782613650772  0.13278391306825388 \n",
            "\n",
            "Number of sessions available to finish within the deadline: 1.0\n",
            "Lesson     Keywords Covered     Normalized Coverage Percentage\n",
            "2          rain severely impacted 52.63%                        \n",
            "1          Persian Gulf         5.26%                         \n",
            "3          causing flash flooding 5.26%                         \n",
            "4          heavy rain severely  5.26%                         \n",
            "5          United Arab Emirates 5.26%                         \n",
            "6          impacted states      5.26%                         \n",
            "7          Southeastern Iran    5.26%                         \n",
            "8          April                5.26%                         \n",
            "9          Gulf                 5.26%                         \n",
            "10         Eastern Province     5.26%                         \n"
          ]
        }
      ]
    },
    {
      "cell_type": "code",
      "source": [
        "test = {}\n",
        "for (k,w) in keywords:\n",
        "  print('GET QUESTIONS FOR ', k)\n",
        "  ret = get_questions(k, text)\n",
        "  test[k] = ret\n",
        "  if ret is not None:\n",
        "    print(k, '\\n', ret['q'], '\\nANS=', ret['ans'], '\\n\\n')"
      ],
      "metadata": {
        "colab": {
          "base_uri": "https://localhost:8080/"
        },
        "id": "zvvnfhxF5oSW",
        "outputId": "3850cc54-c2b6-4718-985c-66657b3539da"
      },
      "execution_count": 101,
      "outputs": [
        {
          "output_type": "stream",
          "name": "stdout",
          "text": [
            "GET QUESTIONS FOR  Persian Gulf\n",
            "Persian Gulf \n",
            " \n",
            "1. **What was the impact of the heavy rain on the Persian Gulf?**\n",
            "\n",
            "**A)** It caused flash flooding across the region.\n",
            "**B)** It led to reduced water levels.\n",
            "**C)** It caused heavy rain and flooding in the region.\n",
            "**D)** It had no effect on the region.\n",
            "\n",
            "\n",
            "** \n",
            "ANS= C \n",
            "\n",
            "\n",
            "GET QUESTIONS FOR  rain severely impacted\n",
            "rain severely impacted \n",
            " \n",
            "1. **What was the main impact of the heavy rain?** \n",
            "\n",
            "\n",
            " **A**. Increased agricultural production \n",
            "\n",
            "\n",
            " **B**. Flash flooding across the region \n",
            "\n",
            "\n",
            " **C**. Reduced water availability \n",
            "\n",
            "\n",
            " **D**. Damage to infrastructure \n",
            "\n",
            "\n",
            "** \n",
            "ANS= B \n",
            "\n",
            "\n",
            "GET QUESTIONS FOR  causing flash flooding\n",
            "causing flash flooding \n",
            " \n",
            "1. **What caused the flash flooding in the Persian Gulf?** \n",
            "\n",
            "\n",
            "**A.) Heavy rain due to climatic conditions** \n",
            "\n",
            "\n",
            "**B.) Dam failure or infrastructure damage**\n",
            "\n",
            "\n",
            "**C.) River overflow**\n",
            "\n",
            "\n",
            "**D.) Intense sunlight exposure**\n",
            "\n",
            "\n",
            "** \n",
            "ANS= A \n",
            "\n",
            "\n",
            "GET QUESTIONS FOR  heavy rain severely\n",
            "heavy rain severely \n",
            " \n",
            "1. **What was the impact of the heavy rain?**\n",
            "\n",
            "\n",
            " **A. It caused flash flooding across the region.**\n",
            "\n",
            "\n",
            " **B. It caused widespread damage to infrastructure.**\n",
            "\n",
            "\n",
            " **C. It resulted in the deaths of at least 30 people.**\n",
            "\n",
            "\n",
            " **D. It caused heavy rainfall throughout the region.**\n",
            "\n",
            "\n",
            " ** \n",
            "ANS= A \n",
            "\n",
            "\n",
            "GET QUESTIONS FOR  United Arab Emirates\n",
            "\n",
            "1. **What was the impact of the heavy rain on the United Arab Emirates?**\n",
            "A. The floods did not have a significant impact.\n",
            "B. The floods caused widespread damage and infrastructure destruction.\n",
            "C. The floods caused minor damage to infrastructure and personal property.\n",
            "D. The floods did not affect any areas in the United Arab Emirates.\n",
            "\n",
            "\n",
            "2. **Which states were particularly affected by the heavy rain?**\n",
            "A. Oman and Iran\n",
            "B. Yemen and Oman\n",
            "C. Bahrain and Eastern Province of Saudi Arabia\n",
            "D. Yemen and Qatar\n",
            "\n",
            "\n",
            "3. **How many people were killed in the floods in the United Arab Emirates?**\n",
            "A. 5\n",
            "B. 32\n",
            "C. 20\n",
            "D. 19\n",
            "\n",
            "\n",
            "**ANSWER:**\n",
            "1. **B. The floods caused widespread damage and infrastructure destruction.**\n",
            "2. **A. Oman and Iran**\n",
            "3. **C. 32**\n",
            "GET QUESTIONS FOR  impacted states\n",
            "\n",
            "1. **What was the impact of the heavy rain on the Persian Gulf states?**\n",
            "A. Increased economic activity\n",
            "B. Flash flooding\n",
            "C. Reduced water availability\n",
            "D. Increased tourism\n",
            "\n",
            "\n",
            "2. **Which states were particularly affected by the heavy rain?**\n",
            "A. Oman and the United Arab Emirates\n",
            "B. Iran and Yemen\n",
            "C. Saudi Arabia and Oman\n",
            "D. Bahrain and the United Arab Emirates\n",
            "\n",
            "\n",
            "3. **What was the total number of deaths caused by the heavy rain?**\n",
            "A. Less than 10\n",
            "B. 30\n",
            "C. More than 50\n",
            "D. 20\n",
            "\n",
            "\n",
            "**ANSWER:**\n",
            "1. **B. Flash flooding**\n",
            "2. **A. Oman and the United Arab Emirates**\n",
            "3. **B. 30**\n",
            "GET QUESTIONS FOR  Southeastern Iran\n",
            "\n",
            "1. **What was the impact of the heavy rain on Southeastern Iran?**\n",
            "\n",
            "\n",
            "a) Minimal impact\n",
            "b) Significant impact\n",
            "c) Moderate impact\n",
            "d) None of the above\n",
            "\n",
            "\n",
            "**Answer:** b) Significant impact\n",
            "\n",
            "\n",
            "2. **What were the countries most affected by the heavy rain?**\n",
            "\n",
            "\n",
            "a) Oman and the United Arab Emirates\n",
            "b) Yemen, Bahrain, Qatar, and the Eastern Province of Saudi Arabia\n",
            "c) Oman, Iran, Bahrain, Qatar, and United Arab Emirates\n",
            "d) None of the above\n",
            "\n",
            "\n",
            "**Answer:** c) Oman, Iran, Bahrain, Qatar, and United Arab Emirates\n",
            "\n",
            "\n",
            "3. **Which country experienced the highest number of deaths due to the floods?**\n",
            "\n",
            "\n",
            "a) Oman\n",
            "b) Iran\n",
            "c) Yemen\n",
            "d) Bahrain\n",
            "\n",
            "\n",
            "**Answer:** b) Iran\n",
            "GET QUESTIONS FOR  April\n",
            "\n",
            "1. **What was the main cause of the heavy rain in April 2024?**\n",
            "\n",
            "\n",
            "A) Volcanic activity\n",
            "B) Heavy snowfall\n",
            "C) Severe flooding\n",
            "D) Storm surge\n",
            "\n",
            "\n",
            "2. **Which countries were particularly affected by the heavy rainfall?**\n",
            "\n",
            "\n",
            "A) Oman and UAE\n",
            "B) Iran and Yemen\n",
            "C) Bahrain and Oman\n",
            "D) United Arab Emirates and Bahrain\n",
            "\n",
            "\n",
            "3. **How many people were reported dead due to the heavy rainfall?**\n",
            "\n",
            "\n",
            "A) 55\n",
            "B) 32\n",
            "C) 19\n",
            "D) 8\n",
            "\n",
            "\n",
            "**CORRECT ANSWER:**\n",
            "C) Severe flooding\n",
            "GET QUESTIONS FOR  Gulf\n",
            "\n",
            "1. **What was the impact of the heavy rain on the region's infrastructure?**\n",
            "\n",
            "\n",
            "A. Damage to roads and bridges\n",
            "B. Damage to buildings and other structures\n",
            "**C. Damage to agriculture and fields**\n",
            "D. Damage to energy systems\n",
            "\n",
            "\n",
            "2. **Which countries were particularly affected by the heavy rain?**\n",
            "\n",
            "\n",
            "A. Oman and United Arab Emirates\n",
            "B. Iran and Yemen\n",
            "**C. Oman and Bahrain**\n",
            "D. Yemen and Qatar\n",
            "\n",
            "\n",
            "3. **How many people were reported to have died due to the flood?**\n",
            "\n",
            "\n",
            "A. Under 30\n",
            "B. Under 50\n",
            "**C. Over 100**\n",
            "D. Under 20\n",
            "\n",
            "\n",
            "**CORRECT ANSWER:** C\n",
            "\n",
            "**Explanation:**\n",
            "The damage caused by the heavy rain affected agriculture and fields, leading to significant loss of crops and farmland.\n",
            "GET QUESTIONS FOR  Eastern Province\n",
            "Eastern Province \n",
            " \n",
            "1. **What was the impact of the heavy rain on the Eastern Province of Saudi Arabia?**\n",
            "A. Minimal impact\n",
            "B. Significant impact\n",
            "C. No impact\n",
            "D. Moderate impact\n",
            "\n",
            "\n",
            "** \n",
            "ANS= B \n",
            "\n",
            "\n"
          ]
        }
      ]
    },
    {
      "cell_type": "code",
      "source": [
        "flashcards = {}\n",
        "\n",
        "for (k,w) in keywords:\n",
        "  flashcards[k] = get_flashcard(k, text)\n",
        "  print(k, '---', flashcards[k])\n",
        "  print('\\n\\n')"
      ],
      "metadata": {
        "colab": {
          "base_uri": "https://localhost:8080/"
        },
        "id": "yUmq6M0N30Bo",
        "outputId": "5f2b9508-9f23-456d-9447-027c443eb56b"
      },
      "execution_count": 88,
      "outputs": [
        {
          "output_type": "stream",
          "name": "stdout",
          "text": [
            "Persian Gulf --- ### DESCRIPTION:\n",
            " The Persian Gulf is the name given to a strategic waterway connecting the Gulf of Oman with the Arabian Sea. The Persian Gulf region is home to many countries, including Oman, Iran, Yemen, and Saudi Arabia.\n",
            "\n",
            "\n",
            "\n",
            "rain severely impacted --- ### DESCRIPTION:\n",
            "The provided document discusses a series of heavy rainfall events in the Persian Gulf region that severely impacted states in the region.\n",
            "\n",
            "\n",
            "\n",
            "causing flash flooding --- ### DESCRIPTION:\n",
            " The floods were caused by heavy rainfall associated with convective thunderstorms in the Persian Gulf region. The intense rainfall caused rapid runoff and flooding in low-lying areas, leading to flash flooding in several states.\n",
            "\n",
            "### KEYWORD:\n",
            "Flash flooding\n",
            "\n",
            "\n",
            "\n",
            "heavy rain severely --- ### DESCRIPTION:\n",
            "The document discusses the heavy rainfall severely impacting states in the Persian Gulf region in April 2024, causing flash flooding and widespread damage.\n",
            "\n",
            "\n",
            "\n",
            "United Arab Emirates --- ### DESCRIPTION:\n",
            " The document provides an overview of the impact of heavy rain on the United Arab Emirates, highlighting the significant casualties and damage caused by the floods.\n",
            "\n",
            "\n",
            "\n",
            "impacted states --- ### DESCRIPTION:\n",
            "The document discusses the impacts of heavy rain on states in the Persian Gulf region.\n",
            "\n",
            "\n",
            "\n",
            "Southeastern Iran --- ### DESCRIPTION:\n",
            "The document highlights the heavy rain and flooding incidents across the Persian Gulf region, particularly in Oman and the United Arab Emirates, resulting in casualties and damage. It also mentions Southeastern Iran, Yemen, Bahrain, Qatar, and the Eastern Province of Saudi Arabia experiencing heavy rainfall and\n",
            "\n",
            "\n",
            "\n",
            "April --- ### DESCRIPTION:\n",
            "The provided document discusses April's heavy rainfall and its impact on various regions in the Persian Gulf region.\n",
            "\n",
            "\n",
            "\n",
            "Gulf --- ### DESCRIPTION:\n",
            " The document provides an overview of the impact of heavy rain on the Gulf region in April 2024, highlighting the severity of the flooding and its consequences.\n",
            "\n",
            "\n",
            "\n",
            "Eastern Province --- ### DESCRIPTION:\n",
            " The document provides a summary of the impact of heavy rain in the Eastern Province of Saudi Arabia during April 2024.\n",
            "\n",
            "\n",
            "\n"
          ]
        }
      ]
    },
    {
      "cell_type": "markdown",
      "source": [
        " # OLD"
      ],
      "metadata": {
        "id": "1g5Utfuff_Uj"
      }
    },
    {
      "cell_type": "code",
      "source": [
        "# Suppose we have an example topic and keywords related to it\n",
        "topic_keywords = {\n",
        "    \"Python\": [\"variables\", \"functions\", \"loops\", \"lists\", \"dictionaries\"],\n",
        "    \"Machine Learning\": [\"supervised learning\", \"unsupervised learning\", \"neural networks\", \"regression\", \"classification\"]\n",
        "}"
      ],
      "metadata": {
        "id": "xHEm5wKJni6V"
      },
      "execution_count": 28,
      "outputs": []
    },
    {
      "cell_type": "code",
      "source": [
        "# Assuming the user's prior knowledge scores for each keyword (out of 100)\n",
        "user_prior_knowledge = {\n",
        "    \"Python\": {\"variables\": 60, \"functions\": 70, \"loops\": 50, \"lists\": 40, \"dictionaries\": 30},\n",
        "    \"Machine Learning\": {\"supervised learning\": 80, \"unsupervised learning\": 50, \"neural networks\": 60, \"regression\": 70, \"classification\": 40}\n",
        "}"
      ],
      "metadata": {
        "id": "cqkeQWM-nmcJ"
      },
      "execution_count": null,
      "outputs": []
    },
    {
      "cell_type": "code",
      "source": [
        "template_keywords = \"Provide me with the most relevant concepts of the following document, based on the list of keywords. \\n\\n ### DOCUMENT:\\n {document}\\n\\n ### KEYWORDS:\\n {keywords}\\n\\n ### CONCEPTS:\\n\\n{response}\""
      ],
      "metadata": {
        "id": "vrGvjVsJPUm-"
      },
      "execution_count": 53,
      "outputs": []
    },
    {
      "cell_type": "code",
      "source": [
        "keywords = \"\"\"\n",
        "Persian Gulf\n",
        "rain severely impacted\n",
        "causing flash flooding\n",
        "heavy rain severely\n",
        "United Arab Emirates\n",
        "impacted states\n",
        "Southeastern Iran\n",
        "April\n",
        "Gulf\n",
        "Eastern Province\n",
        "\"\"\"\n",
        "\n",
        "prompt = template_keywords.format(\n",
        "    keywords = keywords,\n",
        "    document=text,\n",
        "    response=\"\",\n",
        ")\n",
        "#sampler = keras_nlp.samplers.TopKSampler(k=10, seed=2)\n",
        "sampler = keras_nlp.samplers.TopPSampler(p=0., seed=2)\n",
        "gemma_lm.compile(sampler=sampler)\n",
        "print(gemma_lm.generate(prompt, max_length=500))"
      ],
      "metadata": {
        "colab": {
          "base_uri": "https://localhost:8080/"
        },
        "id": "ZJFLBCStPi-I",
        "outputId": "b37a40af-bdc5-4b8b-8036-5dc2828d9be0"
      },
      "execution_count": 56,
      "outputs": [
        {
          "output_type": "stream",
          "name": "stdout",
          "text": [
            "Provide me with the most relevant concepts of the following document, based on the list of keywords. \n",
            "\n",
            " ### DOCUMENT:\n",
            " In April 2024, heavy rain severely impacted states in the Persian Gulf, causing flash flooding across the region. Several states recorded nearly a year's worth of rain in a single day. The floods had a significant impact across the region, with Oman and the United Arab Emirates being particularly affected,[1] resulting in the deaths of at least 32 people, including 19 in Oman and 8 in Iran.[2][3] Southeastern Iran, Yemen, Bahrain, Qatar, and the Eastern Province of Saudi Arabia also experienced heavy rainfall and subsequent flooding.\n",
            "\n",
            " ### KEYWORDS:\n",
            " \n",
            "Persian Gulf\n",
            "rain severely impacted\n",
            "causing flash flooding\n",
            "heavy rain severely\n",
            "United Arab Emirates\n",
            "impacted states\n",
            "Southeastern Iran\n",
            "April\n",
            "Gulf\n",
            "Eastern Province\n",
            "\n",
            "\n",
            " ### CONCEPTS:\n",
            "\n",
            "Heavy rains that cause severe flooding are common in the Persian Gulf region of the world. In April 2024, a series of severe rainstorms hit several countries in this region, resulting in flash flooding and the deaths of 32 people, including 19 in Oman and 8 in Iran. The heavy rains also impacted states in Saudi Arabia, Qatar, and Yemen. In general, Iran is one of the world's major flood-prone countries, with more than 60% of its territory located in flood-prone zones. Severe flooding events are also common in other countries in the region, such as Bahrain and the United Arab Emirates.\n",
            "\n",
            "\n"
          ]
        }
      ]
    },
    {
      "cell_type": "code",
      "source": [
        "template_schedule = \"Provide me with a schedule to learn the following concepts in the next 3 days. List of concepts:{concepts}\\n{response}\""
      ],
      "metadata": {
        "id": "dom9wn6UKvv0"
      },
      "execution_count": null,
      "outputs": []
    },
    {
      "cell_type": "code",
      "source": [
        "concepts = '''The key concepts are:\n",
        "\n",
        "1. Heavy rains caused flash flooding in the region.\n",
        "\n",
        "2. There were many deaths due to flooding in several countries.\n",
        "\n",
        "3. Flooding had a significant impact on the region.\n",
        "\n",
        "4. There was heavy rainfall and flooding in several\n",
        "'''\n",
        "\n",
        "prompt = template.format(\n",
        "    concepts = concepts,\n",
        "    response=\"\",\n",
        ")\n",
        "sampler = keras_nlp.samplers.TopKSampler(k=5, seed=2)\n",
        "gemma_lm.compile(sampler=sampler)\n",
        "print(gemma_lm.generate(prompt, max_length=256))"
      ],
      "metadata": {
        "colab": {
          "base_uri": "https://localhost:8080/",
          "height": 211
        },
        "id": "0WcEKnAdKuUu",
        "outputId": "bb10fdb3-8d55-428d-9361-e4343992b3a5"
      },
      "execution_count": 33,
      "outputs": [
        {
          "output_type": "error",
          "ename": "KeyError",
          "evalue": "'document'",
          "traceback": [
            "\u001b[0;31m---------------------------------------------------------------------------\u001b[0m",
            "\u001b[0;31mKeyError\u001b[0m                                  Traceback (most recent call last)",
            "\u001b[0;32m<ipython-input-33-ca7647cec80f>\u001b[0m in \u001b[0;36m<cell line: 12>\u001b[0;34m()\u001b[0m\n\u001b[1;32m     10\u001b[0m '''\n\u001b[1;32m     11\u001b[0m \u001b[0;34m\u001b[0m\u001b[0m\n\u001b[0;32m---> 12\u001b[0;31m prompt = template.format(\n\u001b[0m\u001b[1;32m     13\u001b[0m     \u001b[0mconcepts\u001b[0m \u001b[0;34m=\u001b[0m \u001b[0mconcepts\u001b[0m\u001b[0;34m,\u001b[0m\u001b[0;34m\u001b[0m\u001b[0;34m\u001b[0m\u001b[0m\n\u001b[1;32m     14\u001b[0m     \u001b[0mresponse\u001b[0m\u001b[0;34m=\u001b[0m\u001b[0;34m\"\"\u001b[0m\u001b[0;34m,\u001b[0m\u001b[0;34m\u001b[0m\u001b[0;34m\u001b[0m\u001b[0m\n",
            "\u001b[0;31mKeyError\u001b[0m: 'document'"
          ]
        }
      ]
    }
  ],
  "metadata": {
    "accelerator": "GPU",
    "colab": {
      "provenance": [],
      "gpuType": "T4",
      "toc_visible": true,
      "machine_shape": "hm",
      "include_colab_link": true
    },
    "kernelspec": {
      "display_name": "Python 3",
      "name": "python3"
    }
  },
  "nbformat": 4,
  "nbformat_minor": 0
}